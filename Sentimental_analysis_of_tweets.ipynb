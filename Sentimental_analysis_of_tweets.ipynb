{
 "cells": [
  {
   "cell_type": "code",
   "execution_count": 32,
   "metadata": {},
   "outputs": [],
   "source": [
    "#import packages\n",
    "import re\n",
    "import numpy as np\n",
    "import pandas as pd\n",
    "\n",
    "import matplotlib\n",
    "from matplotlib import pyplot as plt\n",
    "%matplotlib inline\n",
    "%config InlineBackend.figure_format = 'retina'\n",
    "\n",
    "import nltk\n",
    "from nltk.tokenize import word_tokenize\n",
    "from nltk.corpus import stopwords\n",
    "from nltk.stem.porter import PorterStemmer\n",
    "from nltk.stem import WordNetLemmatizer\n",
    "\n",
    "from sklearn.feature_extraction.text import TfidfVectorizer\n",
    "from sklearn.model_selection import train_test_split\n",
    "from sklearn.neural_network import MLPClassifier\n",
    "from sklearn.metrics import accuracy_score,classification_report,confusion_matrix\n",
    "from sklearn.model_selection import GridSearchCV\n",
    "import joblib"
   ]
  },
  {
   "cell_type": "code",
   "execution_count": 2,
   "metadata": {},
   "outputs": [
    {
     "data": {
      "text/plain": [
       "pandas.core.frame.DataFrame"
      ]
     },
     "execution_count": 2,
     "metadata": {},
     "output_type": "execute_result"
    }
   ],
   "source": [
    "#import data\n",
    "tweet_dataset = pd.read_csv(\"data/emotion_twitter.csv\", encoding ='ISO-8859-1',header=None)\n",
    "type(tweet_dataset)"
   ]
  },
  {
   "cell_type": "code",
   "execution_count": 3,
   "metadata": {},
   "outputs": [],
   "source": [
    "#add names to columns\n",
    "tweet_dataset.columns = ['sentiment','id','date','flag','user','text']"
   ]
  },
  {
   "cell_type": "code",
   "execution_count": 4,
   "metadata": {},
   "outputs": [],
   "source": [
    "#remove some unecessary attributes\n",
    "for i in ['flag','id','user','date']: \n",
    "    del tweet_dataset[i] "
   ]
  },
  {
   "cell_type": "code",
   "execution_count": 5,
   "metadata": {},
   "outputs": [
    {
     "name": "stdout",
     "output_type": "stream",
     "text": [
      "<class 'pandas.core.frame.DataFrame'>\n",
      "RangeIndex: 1600000 entries, 0 to 1599999\n",
      "Data columns (total 2 columns):\n",
      " #   Column     Non-Null Count    Dtype \n",
      "---  ------     --------------    ----- \n",
      " 0   sentiment  1600000 non-null  int64 \n",
      " 1   text       1600000 non-null  object\n",
      "dtypes: int64(1), object(1)\n",
      "memory usage: 24.4+ MB\n"
     ]
    }
   ],
   "source": [
    "#have some informations\n",
    "tweet_dataset.info()"
   ]
  },
  {
   "cell_type": "code",
   "execution_count": 6,
   "metadata": {},
   "outputs": [
    {
     "data": {
      "text/plain": [
       "4    800000\n",
       "0    800000\n",
       "Name: sentiment, dtype: int64"
      ]
     },
     "execution_count": 6,
     "metadata": {},
     "output_type": "execute_result"
    }
   ],
   "source": [
    "#get classes set's of the target variable \"emotion\"\n",
    "#0-sentiment negative\n",
    "#4-sentiment positif\n",
    "tweet_dataset.sentiment.value_counts()"
   ]
  },
  {
   "cell_type": "code",
   "execution_count": 7,
   "metadata": {},
   "outputs": [
    {
     "data": {
      "text/html": [
       "<div>\n",
       "<style scoped>\n",
       "    .dataframe tbody tr th:only-of-type {\n",
       "        vertical-align: middle;\n",
       "    }\n",
       "\n",
       "    .dataframe tbody tr th {\n",
       "        vertical-align: top;\n",
       "    }\n",
       "\n",
       "    .dataframe thead th {\n",
       "        text-align: right;\n",
       "    }\n",
       "</style>\n",
       "<table border=\"1\" class=\"dataframe\">\n",
       "  <thead>\n",
       "    <tr style=\"text-align: right;\">\n",
       "      <th></th>\n",
       "      <th>sentiment</th>\n",
       "      <th>text</th>\n",
       "    </tr>\n",
       "  </thead>\n",
       "  <tbody>\n",
       "    <tr>\n",
       "      <th>0</th>\n",
       "      <td>0</td>\n",
       "      <td>@switchfoot http://twitpic.com/2y1zl - Awww, t...</td>\n",
       "    </tr>\n",
       "    <tr>\n",
       "      <th>1</th>\n",
       "      <td>0</td>\n",
       "      <td>is upset that he can't update his Facebook by ...</td>\n",
       "    </tr>\n",
       "    <tr>\n",
       "      <th>2</th>\n",
       "      <td>0</td>\n",
       "      <td>@Kenichan I dived many times for the ball. Man...</td>\n",
       "    </tr>\n",
       "    <tr>\n",
       "      <th>3</th>\n",
       "      <td>0</td>\n",
       "      <td>my whole body feels itchy and like its on fire</td>\n",
       "    </tr>\n",
       "    <tr>\n",
       "      <th>4</th>\n",
       "      <td>0</td>\n",
       "      <td>@nationwideclass no, it's not behaving at all....</td>\n",
       "    </tr>\n",
       "    <tr>\n",
       "      <th>5</th>\n",
       "      <td>0</td>\n",
       "      <td>@Kwesidei not the whole crew</td>\n",
       "    </tr>\n",
       "    <tr>\n",
       "      <th>6</th>\n",
       "      <td>0</td>\n",
       "      <td>Need a hug</td>\n",
       "    </tr>\n",
       "    <tr>\n",
       "      <th>7</th>\n",
       "      <td>0</td>\n",
       "      <td>@LOLTrish hey  long time no see! Yes.. Rains a...</td>\n",
       "    </tr>\n",
       "    <tr>\n",
       "      <th>8</th>\n",
       "      <td>0</td>\n",
       "      <td>@Tatiana_K nope they didn't have it</td>\n",
       "    </tr>\n",
       "    <tr>\n",
       "      <th>9</th>\n",
       "      <td>0</td>\n",
       "      <td>@twittera que me muera ?</td>\n",
       "    </tr>\n",
       "  </tbody>\n",
       "</table>\n",
       "</div>"
      ],
      "text/plain": [
       "   sentiment                                               text\n",
       "0          0  @switchfoot http://twitpic.com/2y1zl - Awww, t...\n",
       "1          0  is upset that he can't update his Facebook by ...\n",
       "2          0  @Kenichan I dived many times for the ball. Man...\n",
       "3          0    my whole body feels itchy and like its on fire \n",
       "4          0  @nationwideclass no, it's not behaving at all....\n",
       "5          0                      @Kwesidei not the whole crew \n",
       "6          0                                        Need a hug \n",
       "7          0  @LOLTrish hey  long time no see! Yes.. Rains a...\n",
       "8          0               @Tatiana_K nope they didn't have it \n",
       "9          0                          @twittera que me muera ? "
      ]
     },
     "execution_count": 7,
     "metadata": {},
     "output_type": "execute_result"
    }
   ],
   "source": [
    "#display some negative and positive emotion tweet\n",
    "tweet_dataset[tweet_dataset.sentiment == 0].head(10)   "
   ]
  },
  {
   "cell_type": "code",
   "execution_count": 8,
   "metadata": {},
   "outputs": [
    {
     "data": {
      "text/html": [
       "<div>\n",
       "<style scoped>\n",
       "    .dataframe tbody tr th:only-of-type {\n",
       "        vertical-align: middle;\n",
       "    }\n",
       "\n",
       "    .dataframe tbody tr th {\n",
       "        vertical-align: top;\n",
       "    }\n",
       "\n",
       "    .dataframe thead th {\n",
       "        text-align: right;\n",
       "    }\n",
       "</style>\n",
       "<table border=\"1\" class=\"dataframe\">\n",
       "  <thead>\n",
       "    <tr style=\"text-align: right;\">\n",
       "      <th></th>\n",
       "      <th>sentiment</th>\n",
       "      <th>text</th>\n",
       "    </tr>\n",
       "  </thead>\n",
       "  <tbody>\n",
       "    <tr>\n",
       "      <th>800000</th>\n",
       "      <td>4</td>\n",
       "      <td>I LOVE @Health4UandPets u guys r the best!!</td>\n",
       "    </tr>\n",
       "    <tr>\n",
       "      <th>800001</th>\n",
       "      <td>4</td>\n",
       "      <td>im meeting up with one of my besties tonight! ...</td>\n",
       "    </tr>\n",
       "    <tr>\n",
       "      <th>800002</th>\n",
       "      <td>4</td>\n",
       "      <td>@DaRealSunisaKim Thanks for the Twitter add, S...</td>\n",
       "    </tr>\n",
       "    <tr>\n",
       "      <th>800003</th>\n",
       "      <td>4</td>\n",
       "      <td>Being sick can be really cheap when it hurts t...</td>\n",
       "    </tr>\n",
       "    <tr>\n",
       "      <th>800004</th>\n",
       "      <td>4</td>\n",
       "      <td>@LovesBrooklyn2 he has that effect on everyone</td>\n",
       "    </tr>\n",
       "    <tr>\n",
       "      <th>800005</th>\n",
       "      <td>4</td>\n",
       "      <td>@ProductOfFear You can tell him that I just bu...</td>\n",
       "    </tr>\n",
       "    <tr>\n",
       "      <th>800006</th>\n",
       "      <td>4</td>\n",
       "      <td>@r_keith_hill Thans for your response. Ihad al...</td>\n",
       "    </tr>\n",
       "    <tr>\n",
       "      <th>800007</th>\n",
       "      <td>4</td>\n",
       "      <td>@KeepinUpWKris I am so jealous, hope you had a...</td>\n",
       "    </tr>\n",
       "    <tr>\n",
       "      <th>800008</th>\n",
       "      <td>4</td>\n",
       "      <td>@tommcfly ah, congrats mr fletcher for finally...</td>\n",
       "    </tr>\n",
       "    <tr>\n",
       "      <th>800009</th>\n",
       "      <td>4</td>\n",
       "      <td>@e4VoIP I RESPONDED  Stupid cat is helping me ...</td>\n",
       "    </tr>\n",
       "  </tbody>\n",
       "</table>\n",
       "</div>"
      ],
      "text/plain": [
       "        sentiment                                               text\n",
       "800000          4       I LOVE @Health4UandPets u guys r the best!! \n",
       "800001          4  im meeting up with one of my besties tonight! ...\n",
       "800002          4  @DaRealSunisaKim Thanks for the Twitter add, S...\n",
       "800003          4  Being sick can be really cheap when it hurts t...\n",
       "800004          4    @LovesBrooklyn2 he has that effect on everyone \n",
       "800005          4  @ProductOfFear You can tell him that I just bu...\n",
       "800006          4  @r_keith_hill Thans for your response. Ihad al...\n",
       "800007          4  @KeepinUpWKris I am so jealous, hope you had a...\n",
       "800008          4  @tommcfly ah, congrats mr fletcher for finally...\n",
       "800009          4  @e4VoIP I RESPONDED  Stupid cat is helping me ..."
      ]
     },
     "execution_count": 8,
     "metadata": {},
     "output_type": "execute_result"
    }
   ],
   "source": [
    "tweet_dataset[tweet_dataset.sentiment == 4].head(10) "
   ]
  },
  {
   "cell_type": "code",
   "execution_count": 9,
   "metadata": {},
   "outputs": [],
   "source": [
    "#create cleaning method\n",
    "def cleaning_tweet(tweet):\n",
    "\t#tweet = preprocess of a single tweet in form of string \n",
    "\t#convert the tweet to lower case\n",
    "    tweet=tweet.lower()\n",
    "\t#convert all urls to sting \"URL\"\n",
    "    tweet = re.sub('((www\\.[^\\s]+)|(https?://[^\\s]+))','URL',tweet)\n",
    "\t#convert all @username to \"AT_USER\"\n",
    "    tweet = re.sub('@[^\\s]+','AT_USER', tweet)\n",
    "\t#convert \"#topic\" to just \"topic\"\n",
    "    tweet = re.sub(r'#([^\\s]+)', r'\\1', tweet)\n",
    "\t#remove punctuation \n",
    "    tweet=re.sub(\"[^a-zA-Z]\",\" \",tweet)\n",
    "   #correct all multiple white spaces to a single white space\n",
    "    tweet = re.sub('[\\s]+', ' ', tweet)\n",
    "    \n",
    "    tweet=tweet.lower()\n",
    "    return (tweet)\n",
    "\n",
    "tweet_dataset['text']=tweet_dataset['text'].apply(cleaning_tweet)"
   ]
  },
  {
   "cell_type": "code",
   "execution_count": 10,
   "metadata": {},
   "outputs": [
    {
     "name": "stdout",
     "output_type": "stream",
     "text": [
      "{\"shan't\", \"wasn't\", 're', 'ain', 'further', 'couldn', 'or', 'through', 'hasn', 'was', 'd', 'wouldn', 'been', 't', 'themselves', 'other', \"couldn't\", 'too', 'this', 'll', 'hadn', 'of', 'don', 'can', 'didn', \"you'll\", 'm', \"won't\", 'that', 'to', 'each', 'off', 'have', 'he', \"you've\", 'how', 'wasn', 'had', 'you', 'in', 'what', 'for', 'on', 'do', 'under', 'be', 'isn', 'has', 'your', 'than', 'where', 'just', 'these', 'until', \"don't\", 'with', 'very', 'and', 'now', 'by', 'such', 'yours', 'doesn', 'during', 'no', 'which', 'does', \"hadn't\", 'a', 'yourselves', 'below', \"should've\", 'her', 's', 'should', 'who', 'down', 'being', \"needn't\", 'his', \"wouldn't\", 'own', \"shouldn't\", 'our', 'itself', 'we', 'not', 'more', 'but', 'needn', 'when', 'ma', 'why', 'most', \"you'd\", \"isn't\", 'did', 'if', 'yourself', 'about', 'there', 'so', 'having', 'some', \"mustn't\", 'himself', 'above', 'they', 'at', 'as', 'up', 'then', 'once', 'mustn', 'after', 'whom', 'hers', 'am', \"aren't\", \"it's\", 'its', 'won', 'herself', 'mightn', 've', 'the', 'y', 'shouldn', 'i', 'out', 'into', 'shan', 'while', 'from', 'over', 'against', 'my', 'will', 'aren', \"mightn't\", 'ourselves', 'ours', 'their', 'is', \"that'll\", 'are', \"hasn't\", 'me', 'same', 'him', 'weren', 'few', 'those', 'before', 'it', 'between', 'all', 'only', \"didn't\", \"doesn't\", 'again', 'she', 'theirs', \"you're\", 'o', 'an', 'myself', \"haven't\", 'any', 'because', 'both', \"she's\", 'here', \"weren't\", 'doing', 'were', 'haven', 'them', 'nor'}\n"
     ]
    },
    {
     "name": "stderr",
     "output_type": "stream",
     "text": [
      "[nltk_data] Downloading package stopwords to\n",
      "[nltk_data]     C:\\Users\\eya_g\\AppData\\Roaming\\nltk_data...\n",
      "[nltk_data]   Package stopwords is already up-to-date!\n"
     ]
    }
   ],
   "source": [
    "#the goal here is to tokenize in words and eliminate unwanted words and stemmatization and lemmatization\n",
    "nltk.download('stopwords')\n",
    "\n",
    "#initialise a list of stopwords for english language\n",
    "stpw=set(stopwords.words('english'))\n",
    "print(stpw)"
   ]
  },
  {
   "cell_type": "code",
   "execution_count": 11,
   "metadata": {},
   "outputs": [],
   "source": [
    "#initialization of stemmer and lemmatizer\n",
    "ps = PorterStemmer()\n",
    "lem = WordNetLemmatizer()\n",
    "def preprocess_tweet(tweet):\n",
    "    tweet_words=word_tokenize(tweet) \n",
    "    filtered_sent=[]\n",
    "    for w in tweet_words:\n",
    "        if w not in stpw:\n",
    "            filtered_sent.append(w)\n",
    "\n",
    "    stemmed_words=[]\n",
    "    for w in filtered_sent:\n",
    "       stemmed_words.append(ps.stem(w))\n",
    "       \n",
    "    lemmatized_words=[]\n",
    "    for w in stemmed_words:\n",
    "       lemmatized_words.append(lem.lemmatize(w))     \n",
    "    tweet=lemmatized_words\n",
    "    return(tweet) "
   ]
  },
  {
   "cell_type": "code",
   "execution_count": 12,
   "metadata": {},
   "outputs": [
    {
     "name": "stderr",
     "output_type": "stream",
     "text": [
      "[nltk_data] Downloading package wordnet to\n",
      "[nltk_data]     C:\\Users\\eya_g\\AppData\\Roaming\\nltk_data...\n",
      "[nltk_data]   Package wordnet is already up-to-date!\n"
     ]
    }
   ],
   "source": [
    "nltk.download('wordnet')\n",
    "#convert text as string\n",
    "tweet_dataset['text']=tweet_dataset['text'].apply(preprocess_tweet)   \n",
    "\n",
    "tweet_dataset['text']=[\" \".join(tweet) for tweet in tweet_dataset['text'].values]"
   ]
  },
  {
   "cell_type": "code",
   "execution_count": 13,
   "metadata": {},
   "outputs": [
    {
     "data": {
      "image/png": "[encoded data removed]",
      "text/plain": [
       "<Figure size 864x432 with 1 Axes>"
      ]
     },
     "metadata": {
      "needs_background": "light"
     },
     "output_type": "display_data"
    }
   ],
   "source": [
    "def length(tweet):    \n",
    "    return len(tweet)\n",
    "\n",
    "tweet_dataset['length']=tweet_dataset['text'].apply(length)\n",
    "\n",
    "negative_sentiment=tweet_dataset[tweet_dataset['sentiment']==0]\n",
    "positive_sentiment=tweet_dataset[tweet_dataset['sentiment']==4]\n",
    "\n",
    "matplotlib.rcParams['figure.figsize'] = (12.0, 6.0)\n",
    "bins = 50\n",
    "plt.hist(negative_sentiment['length'], alpha = 0.6, bins=bins, label='Negative_Sentiment')\n",
    "plt.hist(positive_sentiment['length'], alpha = 0.7, bins=bins, label='Positive_Sentiment')\n",
    "plt.xlabel('length')\n",
    "plt.ylabel('numbers')\n",
    "plt.legend(loc='upper right')\n",
    "plt.xlim(0,130)\n",
    "plt.grid()\n",
    "plt.show()"
   ]
  },
  {
   "cell_type": "code",
   "execution_count": 14,
   "metadata": {},
   "outputs": [],
   "source": [
    "#proceed to the transformation tf-idf\n",
    "data = np.array(tweet_dataset.text)\n",
    "label = np.array(tweet_dataset.sentiment)"
   ]
  },
  {
   "cell_type": "code",
   "execution_count": 15,
   "metadata": {},
   "outputs": [],
   "source": [
    "#create matrix\n",
    "tfv=TfidfVectorizer(sublinear_tf=True)\n",
    "features=tfv.fit_transform(data)\n",
    "\n",
    "vocab=tfv.fit(data)\n",
    "features_dictionary = vocab.vocabulary_.items()"
   ]
  },
  {
   "cell_type": "code",
   "execution_count": 16,
   "metadata": {},
   "outputs": [],
   "source": [
    "# init lists to store the vocab and counts\n",
    "vocab = []\n",
    "count = []\n",
    "# iterate through each vocab and count append the value to designated lists\n",
    "for key, value in features_dictionary:\n",
    "    vocab.append(key)\n",
    "    count.append(value)\n",
    "# store the count in panadas dataframe with vocab as index\n",
    "tweet_vocab = pd.Series(count, index=vocab)"
   ]
  },
  {
   "cell_type": "code",
   "execution_count": 17,
   "metadata": {},
   "outputs": [
    {
     "data": {
      "text/plain": [
       "<matplotlib.axes._subplots.AxesSubplot at 0x1cc2b5cf6d8>"
      ]
     },
     "execution_count": 17,
     "metadata": {},
     "output_type": "execute_result"
    },
    {
     "data": {
      "image/png": "[encoded data removed]",
      "text/plain": [
       "<Figure size 576x1080 with 1 Axes>"
      ]
     },
     "metadata": {
      "needs_background": "light"
     },
     "output_type": "display_data"
    }
   ],
   "source": [
    "# presentation of the 20 first\n",
    "top_vacab = tweet_vocab.head(20)\n",
    "top_vacab.plot(kind = 'barh', figsize=(8,15))"
   ]
  },
  {
   "cell_type": "code",
   "execution_count": 18,
   "metadata": {},
   "outputs": [],
   "source": [
    "#select sample\n",
    "N=label.shape[0]\n",
    "n=int(N/100)\n",
    "sample = np.random.randint(N, size=n)\n",
    "features = features[sample]\n",
    "label= label[sample]"
   ]
  },
  {
   "cell_type": "code",
   "execution_count": 19,
   "metadata": {},
   "outputs": [],
   "source": [
    "#sample train_test\n",
    "X_train, X_test, y_train, y_test = train_test_split(features,label, test_size=0.25, random_state=1234)"
   ]
  },
  {
   "cell_type": "code",
   "execution_count": 20,
   "metadata": {},
   "outputs": [
    {
     "name": "stdout",
     "output_type": "stream",
     "text": [
      "Iteration 1, loss = 0.70696594\n",
      "Iteration 2, loss = 0.66363808\n",
      "Iteration 3, loss = 0.61625854\n",
      "Iteration 4, loss = 0.56543607\n",
      "Iteration 5, loss = 0.51732283\n",
      "Iteration 6, loss = 0.47434258\n",
      "Iteration 7, loss = 0.43742392\n",
      "Iteration 8, loss = 0.40598970\n",
      "Iteration 9, loss = 0.37926521\n",
      "Iteration 10, loss = 0.35620728\n",
      "Iteration 11, loss = 0.33600385\n",
      "Iteration 12, loss = 0.31810155\n",
      "Iteration 13, loss = 0.30219013\n",
      "Iteration 14, loss = 0.28785771\n",
      "Iteration 15, loss = 0.27501724\n",
      "Iteration 16, loss = 0.26326462\n",
      "Iteration 17, loss = 0.25261490\n",
      "Iteration 18, loss = 0.24269261\n",
      "Iteration 19, loss = 0.23362253\n",
      "Iteration 20, loss = 0.22543494\n",
      "Iteration 21, loss = 0.21771731\n",
      "Iteration 22, loss = 0.21071561\n",
      "Iteration 23, loss = 0.20386986\n",
      "Iteration 24, loss = 0.19784946\n",
      "Iteration 25, loss = 0.19209434\n",
      "Iteration 26, loss = 0.18678761\n",
      "Iteration 27, loss = 0.18186965\n",
      "Iteration 28, loss = 0.17741067\n",
      "Iteration 29, loss = 0.17305687\n",
      "Iteration 30, loss = 0.16884084\n",
      "Iteration 31, loss = 0.16488503\n",
      "Iteration 32, loss = 0.16144118\n",
      "Iteration 33, loss = 0.15807005\n",
      "Iteration 34, loss = 0.15495922\n",
      "Iteration 35, loss = 0.15182949\n",
      "Iteration 36, loss = 0.14889651\n",
      "Iteration 37, loss = 0.14617676\n",
      "Iteration 38, loss = 0.14387868\n",
      "Iteration 39, loss = 0.14113634\n",
      "Iteration 40, loss = 0.13889355\n",
      "Iteration 41, loss = 0.13670682\n",
      "Iteration 42, loss = 0.13462241\n",
      "Iteration 43, loss = 0.13246561\n",
      "Iteration 44, loss = 0.13065563\n",
      "Iteration 45, loss = 0.12889103\n",
      "Iteration 46, loss = 0.12697236\n",
      "Iteration 47, loss = 0.12518214\n",
      "Iteration 48, loss = 0.12368208\n",
      "Iteration 49, loss = 0.12207482\n",
      "Iteration 50, loss = 0.12037975\n",
      "Iteration 51, loss = 0.11909307\n",
      "Iteration 52, loss = 0.11765566\n",
      "Iteration 53, loss = 0.11630359\n",
      "Iteration 54, loss = 0.11501507\n",
      "Iteration 55, loss = 0.11389637\n",
      "Iteration 56, loss = 0.11249943\n",
      "Iteration 57, loss = 0.11145006\n",
      "Iteration 58, loss = 0.11016923\n",
      "Iteration 59, loss = 0.10909630\n",
      "Iteration 60, loss = 0.10805462\n",
      "Iteration 61, loss = 0.10702291\n",
      "Iteration 62, loss = 0.10623934\n",
      "Iteration 63, loss = 0.10484628\n",
      "Iteration 64, loss = 0.10407250\n",
      "Iteration 65, loss = 0.10308246\n",
      "Iteration 66, loss = 0.10230307\n",
      "Iteration 67, loss = 0.10139221\n",
      "Iteration 68, loss = 0.10038435\n",
      "Iteration 69, loss = 0.09965217\n",
      "Iteration 70, loss = 0.09879398\n"
     ]
    },
    {
     "name": "stderr",
     "output_type": "stream",
     "text": [
      "c:\\programdata\\miniconda3\\lib\\site-packages\\sklearn\\neural_network\\_multilayer_perceptron.py:617: ConvergenceWarning: Stochastic Optimizer: Maximum iterations (70) reached and the optimization hasn't converged yet.\n",
      "  % self.max_iter, ConvergenceWarning)\n"
     ]
    },
    {
     "data": {
      "text/plain": [
       "MLPClassifier(hidden_layer_sizes=(10,), max_iter=70, verbose=True)"
      ]
     },
     "execution_count": 20,
     "metadata": {},
     "output_type": "execute_result"
    }
   ],
   "source": [
    "#construct naive bayesian model\n",
    "mlp = MLPClassifier(hidden_layer_sizes=(10,),max_iter=70,solver='adam',verbose=True)\n",
    "mlp.fit(X_train, y_train)"
   ]
  },
  {
   "cell_type": "code",
   "execution_count": 21,
   "metadata": {},
   "outputs": [],
   "source": [
    "#prediction on test data \n",
    "predicted= mlp.predict(X_test)"
   ]
  },
  {
   "cell_type": "code",
   "execution_count": 27,
   "metadata": {},
   "outputs": [
    {
     "name": "stdout",
     "output_type": "stream",
     "text": [
      "Neural Networks Accuracy 67.0 %\n"
     ]
    }
   ],
   "source": [
    "import sklearn.metrics as metrics\n",
    "#find accuracy percentage\n",
    "print(\"Neural Networks Accuracy {} %\".format(round(metrics.accuracy_score(y_test, predicted),2)*100))"
   ]
  },
  {
   "cell_type": "code",
   "execution_count": 28,
   "metadata": {},
   "outputs": [
    {
     "name": "stdout",
     "output_type": "stream",
     "text": [
      "[[1336  664]\n",
      " [ 660 1340]]\n"
     ]
    }
   ],
   "source": [
    "#print confusion matrix\n",
    "print(confusion_matrix(y_test,predicted))"
   ]
  },
  {
   "cell_type": "code",
   "execution_count": 29,
   "metadata": {},
   "outputs": [
    {
     "name": "stdout",
     "output_type": "stream",
     "text": [
      "              precision    recall  f1-score   support\n",
      "\n",
      "           0       0.67      0.67      0.67      2000\n",
      "           4       0.67      0.67      0.67      2000\n",
      "\n",
      "    accuracy                           0.67      4000\n",
      "   macro avg       0.67      0.67      0.67      4000\n",
      "weighted avg       0.67      0.67      0.67      4000\n",
      "\n"
     ]
    }
   ],
   "source": [
    "#print recall,precision\n",
    "print(classification_report(y_test,predicted))"
   ]
  },
  {
   "cell_type": "code",
   "execution_count": 30,
   "metadata": {},
   "outputs": [
    {
     "data": {
      "text/plain": [
       "2"
      ]
     },
     "execution_count": 30,
     "metadata": {},
     "output_type": "execute_result"
    }
   ],
   "source": [
    "#number of weight matrix\n",
    "len(mlp.coefs_)"
   ]
  },
  {
   "cell_type": "code",
   "execution_count": 31,
   "metadata": {},
   "outputs": [
    {
     "data": {
      "text/plain": [
       "['model/sentiment_analysis.ml']"
      ]
     },
     "execution_count": 31,
     "metadata": {},
     "output_type": "execute_result"
    }
   ],
   "source": [
    "#save final model\n",
    "joblib.dump(mlp,\"model/sentiment_analysis.ml\")"
   ]
  }
 ],
 "metadata": {
  "kernelspec": {
   "display_name": "Python 3",
   "language": "python",
   "name": "python3"
  },
  "language_info": {
   "codemirror_mode": {
    "name": "ipython",
    "version": 3
   },
   "file_extension": ".py",
   "mimetype": "text/x-python",
   "name": "python",
   "nbconvert_exporter": "python",
   "pygments_lexer": "ipython3",
   "version": "3.7.3"
  }
 },
 "nbformat": 4,
 "nbformat_minor": 2
}
